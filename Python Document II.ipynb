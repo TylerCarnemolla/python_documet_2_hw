{
 "cells": [
  {
   "cell_type": "markdown",
   "metadata": {},
   "source": [
    "# Functions, Scoping, Data Collections 1 & List Comprehensions"
   ]
  },
  {
   "cell_type": "markdown",
   "metadata": {},
   "source": [
    "## Tasks Today:\n",
    "\n",
    "<i>Monday Additions (or, and ... if statements)</i>\n",
    "\n",
    "1) String Manipulation <br>\n",
    " &nbsp;&nbsp;&nbsp;&nbsp; a) strip() <br>\n",
    " &nbsp;&nbsp;&nbsp;&nbsp; b) title() <br>\n",
    "2) Working With Lists <br>\n",
    " &nbsp;&nbsp;&nbsp;&nbsp; a) min() <br>\n",
    " &nbsp;&nbsp;&nbsp;&nbsp; b) max() <br>\n",
    " &nbsp;&nbsp;&nbsp;&nbsp; c) sum() <br>\n",
    " &nbsp;&nbsp;&nbsp;&nbsp; d) sort() <br>\n",
    " &nbsp;&nbsp;&nbsp;&nbsp; e) Copying a List <br>\n",
    " &nbsp;&nbsp;&nbsp;&nbsp; f) 'in' keyword <br>\n",
    " &nbsp;&nbsp;&nbsp;&nbsp; g) 'not in' keyword <br>\n",
    " &nbsp;&nbsp;&nbsp;&nbsp; i) Checking an Empty List <br>\n",
    " &nbsp;&nbsp;&nbsp;&nbsp; j) Removing Instances with a Loop <br>\n",
    "3) List Comprehensions <br>\n",
    "4) Tuples <br>\n",
    " &nbsp;&nbsp;&nbsp;&nbsp; a) sorted() <br>\n",
    "5) Functions <br>\n",
    " &nbsp;&nbsp;&nbsp;&nbsp; a) User-Defined vs. Built-In Functions <br>\n",
    " &nbsp;&nbsp;&nbsp;&nbsp; b) Accepting Parameters <br>\n",
    " &nbsp;&nbsp;&nbsp;&nbsp; c) Default Parameters <br>\n",
    " &nbsp;&nbsp;&nbsp;&nbsp; d) Making an Argument Optional <br>\n",
    " &nbsp;&nbsp;&nbsp;&nbsp; e) Keyword Arguments <br>\n",
    " &nbsp;&nbsp;&nbsp;&nbsp; f) Returning Values <br>\n",
    " &nbsp;&nbsp;&nbsp;&nbsp; g) *args <br>\n",
    " &nbsp;&nbsp;&nbsp;&nbsp; h) Docstring <br>\n",
    " &nbsp;&nbsp;&nbsp;&nbsp; i) Using a User Function in a Loop <br>\n",
    "6) Scope"
   ]
  },
  {
   "cell_type": "markdown",
   "metadata": {},
   "source": [
    "### String Manipulation"
   ]
  },
  {
   "cell_type": "markdown",
   "metadata": {},
   "source": [
    "##### .lstrip()"
   ]
  },
  {
   "cell_type": "code",
   "execution_count": 4,
   "metadata": {},
   "outputs": [
    {
     "name": "stdout",
     "output_type": "stream",
     "text": [
      "tyler\n"
     ]
    }
   ],
   "source": [
    "# string.lstrip()\n",
    "name=\"            hhhhhhtyler\"\n",
    "print(name.lstrip(\" \" \"h\") )\n",
    "\n"
   ]
  },
  {
   "cell_type": "markdown",
   "metadata": {},
   "source": [
    "##### .rstrip()"
   ]
  },
  {
   "cell_type": "code",
   "execution_count": 6,
   "metadata": {},
   "outputs": [
    {
     "name": "stdout",
     "output_type": "stream",
     "text": [
      "hundai \n"
     ]
    }
   ],
   "source": [
    "# string.rstrip()\n",
    "car=\"hundai tuscan\"\n",
    "name_rstripped = car.rstrip(\"tuscan\")\n",
    "print(name_rstripped)"
   ]
  },
  {
   "cell_type": "markdown",
   "metadata": {},
   "source": [
    "##### .strip()"
   ]
  },
  {
   "cell_type": "code",
   "execution_count": 233,
   "metadata": {},
   "outputs": [
    {
     "name": "stdout",
     "output_type": "stream",
     "text": [
      "poohoooa\n"
     ]
    }
   ],
   "source": [
    "# string.strip()\n",
    "slogan=\"    poohoooadooodoo   \"\n",
    "stripped_slogan= slogan.strip(\"o\" \" d\")\n",
    "print(stripped_slogan)"
   ]
  },
  {
   "cell_type": "markdown",
   "metadata": {},
   "source": [
    "##### .title()"
   ]
  },
  {
   "cell_type": "code",
   "execution_count": 15,
   "metadata": {},
   "outputs": [
    {
     "name": "stdout",
     "output_type": "stream",
     "text": [
      "Tyler Carnemolla\n"
     ]
    }
   ],
   "source": [
    "# string.title()\n",
    "name=\"tyler carnemolla\"\n",
    "print(name.title())\n",
    "# you can also use .upper or .lower\n"
   ]
  },
  {
   "cell_type": "markdown",
   "metadata": {},
   "source": [
    "### String Exercise <br>\n",
    "<p>Strip all white space and capitalize every name in the list given</p>"
   ]
  },
  {
   "cell_type": "code",
   "execution_count": 235,
   "metadata": {},
   "outputs": [
    {
     "name": "stdout",
     "output_type": "stream",
     "text": [
      "['Connor', 'Max', 'Evan', 'Jordan']\n"
     ]
    }
   ],
   "source": [
    "names = ['    coNNor', 'max', ' EVan ', 'JORDAN']\n",
    "# HINT: You will need to use a for loop for iteration\n",
    "fixed=[]\n",
    "for name in names:\n",
    "    name=name.title()\n",
    "    name=name.strip(\" \")\n",
    "    fixed.append(name)\n",
    "print(fixed)\n",
    "\n",
    "   \n",
    "  \n"
   ]
  },
  {
   "cell_type": "markdown",
   "metadata": {},
   "source": [
    "### Working With Lists"
   ]
  },
  {
   "cell_type": "markdown",
   "metadata": {},
   "source": [
    "##### min()"
   ]
  },
  {
   "cell_type": "code",
   "execution_count": 29,
   "metadata": {},
   "outputs": [
    {
     "name": "stdout",
     "output_type": "stream",
     "text": [
      "2\n"
     ]
    }
   ],
   "source": [
    "# min(list)\n",
    "num=[4,2,67,55,33,44,84,334,9,64,77]\n",
    "print(min(num))"
   ]
  },
  {
   "cell_type": "markdown",
   "metadata": {},
   "source": [
    "##### max()"
   ]
  },
  {
   "cell_type": "code",
   "execution_count": 30,
   "metadata": {},
   "outputs": [
    {
     "name": "stdout",
     "output_type": "stream",
     "text": [
      "334\n"
     ]
    }
   ],
   "source": [
    "# max(list)\n",
    "print(max(num))\n"
   ]
  },
  {
   "cell_type": "markdown",
   "metadata": {},
   "source": [
    "##### sum()"
   ]
  },
  {
   "cell_type": "code",
   "execution_count": 238,
   "metadata": {},
   "outputs": [
    {
     "name": "stdout",
     "output_type": "stream",
     "text": [
      "696\n"
     ]
    }
   ],
   "source": [
    "# sum(list)\n",
    "print(sum(num))\n"
   ]
  },
  {
   "cell_type": "markdown",
   "metadata": {},
   "source": [
    "##### sorted()"
   ]
  },
  {
   "cell_type": "code",
   "execution_count": 39,
   "metadata": {},
   "outputs": [
    {
     "name": "stdout",
     "output_type": "stream",
     "text": [
      "[4, 2, 67, 55, 33, 44, 84, 334, 9, 64]\n",
      "[2, 4, 9, 33, 44, 55, 64, 67, 84, 334]\n",
      "[4, 2, 67, 55, 33, 44, 84, 334, 9, 64]\n"
     ]
    }
   ],
   "source": [
    "# sorted(list)\n",
    "print(num)\n",
    "\n",
    "sorted_num=sorted(num)\n",
    "print(sorted_num)\n",
    "\n"
   ]
  },
  {
   "cell_type": "markdown",
   "metadata": {},
   "source": [
    "##### .sort() <br>\n",
    "<p>Difference between sort and sorted, is that sorted doesn't change original list it returns a copy, while .sort changes the original list</p>"
   ]
  },
  {
   "cell_type": "code",
   "execution_count": 44,
   "metadata": {},
   "outputs": [
    {
     "name": "stdout",
     "output_type": "stream",
     "text": [
      "[4, 2, 67, 55, 33, 44, 84, 334, 9, 64]\n",
      "None\n",
      "[2, 4, 9, 33, 44, 55, 64, 67, 84, 334]\n"
     ]
    }
   ],
   "source": [
    "# list.sort()\n",
    "# this will premenintly change the list without returning a list. but once you print the list again it will be changed.\n",
    "print(num)\n",
    "print(num.sort()) \n",
    "print(num)\n",
    "\n",
    "# use sorted when you don't want to alter original list, use .sort() when you want to alter original list"
   ]
  },
  {
   "cell_type": "markdown",
   "metadata": {},
   "source": [
    "##### Copying a List"
   ]
  },
  {
   "cell_type": "code",
   "execution_count": 46,
   "metadata": {},
   "outputs": [
    {
     "name": "stdout",
     "output_type": "stream",
     "text": [
      "[2, 4, 9, 33, 44, 55, 64, 67, 84, 334]\n",
      "[2, 4, 9, 33, 44, 55, 64, 67, 84, 334]\n"
     ]
    }
   ],
   "source": [
    "# [:] copies a list, doesn't alter original\n",
    "list_1=num\n",
    "print(list_1)\n",
    "list_2=num[:]\n",
    "print(list_2)\n"
   ]
  },
  {
   "cell_type": "markdown",
   "metadata": {},
   "source": [
    "##### 'in' keyword"
   ]
  },
  {
   "cell_type": "code",
   "execution_count": 48,
   "metadata": {},
   "outputs": [
    {
     "name": "stdout",
     "output_type": "stream",
     "text": [
      "keith is here!\n"
     ]
    }
   ],
   "source": [
    "staff=[\"abi\",\"max\",\"jj\",\"morrie\",\"keith\"]\n",
    "if \"keith\" in staff:\n",
    "    print(\"keith is here!\")\n",
    "else:\n",
    "    print(\"keith is missing\")"
   ]
  },
  {
   "cell_type": "markdown",
   "metadata": {},
   "source": [
    "##### 'not in' keyword"
   ]
  },
  {
   "cell_type": "code",
   "execution_count": 50,
   "metadata": {},
   "outputs": [
    {
     "name": "stdout",
     "output_type": "stream",
     "text": [
      "michael was let go\n"
     ]
    }
   ],
   "source": [
    "if \"michael\" not in staff:\n",
    "    print(\"michael was let go\")"
   ]
  },
  {
   "cell_type": "markdown",
   "metadata": {},
   "source": [
    "##### Checking an Empty List"
   ]
  },
  {
   "cell_type": "code",
   "execution_count": 51,
   "metadata": {},
   "outputs": [
    {
     "name": "stdout",
     "output_type": "stream",
     "text": [
      "this list is empty\n"
     ]
    }
   ],
   "source": [
    "# if l_1: or if l_1 = []\n",
    "cares=[]\n",
    "if cares==[]:\n",
    "    print(\"this list is empty\")\n",
    "\n"
   ]
  },
  {
   "cell_type": "markdown",
   "metadata": {},
   "source": [
    "##### Removing Instances with a Loop"
   ]
  },
  {
   "cell_type": "code",
   "execution_count": 243,
   "metadata": {},
   "outputs": [
    {
     "name": "stdout",
     "output_type": "stream",
     "text": [
      "['sean', 'ian', 'sam', 'jenine', 'doug', 'lexi']\n",
      "['sean', 'ian', 'sam', 'jenine', 'lexi']\n"
     ]
    }
   ],
   "source": [
    "# while, remove\n",
    "names=[\"doug\",\"sean\",\"ian\",\"sam\",\"jenine\",\"doug\",\"lexi\"]\n",
    "while \"doug\" in names:\n",
    "    names.remove(\"doug\")\n",
    "    print(names) #name in names == \"doug\":\n",
    "\n",
    "\n",
    "\n",
    "# for name in names:\n",
    "#     if name == \"doug\":\n",
    "#         names.remove(\"doug\")\n",
    "#         print(names)"
   ]
  },
  {
   "cell_type": "markdown",
   "metadata": {},
   "source": [
    "### List Exercise <br>\n",
    "<p>Remove all duplicates<br><b>Extra: Create a program that will remove any duplicates from a given list</b></p>"
   ]
  },
  {
   "cell_type": "code",
   "execution_count": 64,
   "metadata": {},
   "outputs": [
    {
     "name": "stdout",
     "output_type": "stream",
     "text": [
      "['connor', 'bob', 'evan', 'max', 2, 3, 4, 'kevin']\n"
     ]
    }
   ],
   "source": [
    "names = ['connor', 'connor', 'bob', 'connor', 'evan', 'max', 'evan', 2, 2, 2, 3, 3, 4, 'bob', 'kevin']\n",
    "# Hint 1: You will need an append\n",
    "# Hint 2: Using an empty list will make life easier\n",
    "\n",
    "new_list=[]\n",
    "for name in names:\n",
    "    if name not in new_list:\n",
    "        new_list.append(name)\n",
    "print(new_list)\n",
    "    \n",
    "    \n",
    "    \n",
    "    \n",
    "    \n",
    "    \n",
    "\n"
   ]
  },
  {
   "cell_type": "markdown",
   "metadata": {},
   "source": [
    "### List Comprehensions <br>\n",
    "<p>Creating a quickly generated list to work with<br>*result*  = [*transform*    *iteration*         *filter*     ]</p>"
   ]
  },
  {
   "cell_type": "markdown",
   "metadata": {},
   "source": [
    "##### In a list comprehension we have a few pieces:\n",
    "1. The first is the counter/ variable - IN this the variable is x\n",
    "2. then we have a transform for the variable\n",
    "3. The finale part of a list comp is called the condition\n",
    "\n",
    "```python\n",
    "    [variable, transform, condition]\n",
    "```"
   ]
  },
  {
   "cell_type": "code",
   "execution_count": 79,
   "metadata": {},
   "outputs": [
    {
     "name": "stdout",
     "output_type": "stream",
     "text": [
      "[1, 9, 25, 49, 81, 121, 169, 225, 289, 361, 441, 529, 625, 729, 841, 961, 1089, 1225, 1369, 1521, 1681, 1849, 2025, 2209, 2401, 2601, 2809, 3025, 3249, 3481, 3721, 3969, 4225, 4489, 4761, 5041, 5329, 5625, 5929, 6241, 6561, 6889, 7225, 7569, 7921, 8281, 8649, 9025, 9409, 9801]\n",
      "\n",
      "\n",
      "[1, 9, 25, 49, 81, 121, 169, 225, 289, 361, 441, 529, 625, 729, 841, 961, 1089, 1225, 1369, 1521, 1681, 1849, 2025, 2209, 2401, 2601, 2809, 3025, 3249, 3481, 3721, 3969, 4225, 4489, 4761, 5041, 5329, 5625, 5929, 6241, 6561, 6889, 7225, 7569, 7921, 8281, 8649, 9025, 9409, 9801]\n"
     ]
    }
   ],
   "source": [
    "# number comprehension\n",
    "nums=[]\n",
    "# With a regular for loop\n",
    "for i in range(100):\n",
    "    if i%2 != 0:\n",
    "        nums.append(i**2)\n",
    "print(nums)\n",
    "# IN a list comprehension we have a few pieces:\n",
    "# The first is the counter/ variable - IN this the variable is x\n",
    "# Then we have a transform for the variable \n",
    "# The finale part of a list comp is called the condition\n",
    "#[variable, transform, condition]\n",
    "nums_comp=[i**2 for i in range(100) if i % 2 != 0]\n",
    "print('\\n')\n",
    "print(nums_comp)\n",
    "\n",
    "\n"
   ]
  },
  {
   "cell_type": "markdown",
   "metadata": {},
   "source": [
    "There are a few benefits to using List comprehensions. The most obvious would be that we now have shorter code to work with instead of using 3+ lines of code in the for loop variant.\n",
    "\n",
    "Another is an added benefit to memory usage. Since the list's memory is allocated first before adding elements to it, we don't have to resize the list once we add elements to it.\n",
    "\n",
    "Lastly, list comprehensions are considered the \"pythonic\" way to write code by the PEP8 standards (Python Style Guide)"
   ]
  },
  {
   "cell_type": "code",
   "execution_count": 80,
   "metadata": {},
   "outputs": [
    {
     "name": "stdout",
     "output_type": "stream",
     "text": [
      "[0, 1, 4, 9, 16, 25, 36, 49, 64, 81, 100, 121, 144, 169, 196, 225, 256, 289, 324, 361]\n"
     ]
    }
   ],
   "source": [
    "# square number comprehension\n",
    "square=[x**2 for x in range(20)]\n",
    "print(square)\n"
   ]
  },
  {
   "cell_type": "code",
   "execution_count": 82,
   "metadata": {},
   "outputs": [
    {
     "name": "stdout",
     "output_type": "stream",
     "text": [
      "['Turkey', 'Truffles', 'Toast']\n"
     ]
    }
   ],
   "source": [
    "# string comprehension\n",
    "foods=[\"turkey\",\"truffles\",\"waffels\",\"toast\",\"grapes\",\"bread\"]\n",
    "t_food=[]\n",
    "\n",
    "t_food=[food.title() for food in foods if food[0]== \"t\"]\n",
    "print(t_food)\n"
   ]
  },
  {
   "cell_type": "code",
   "execution_count": null,
   "metadata": {},
   "outputs": [],
   "source": []
  },
  {
   "cell_type": "code",
   "execution_count": null,
   "metadata": {},
   "outputs": [],
   "source": []
  },
  {
   "cell_type": "markdown",
   "metadata": {},
   "source": [
    "### Tuples <br>\n",
    "<p><b>Defined as an immutable list</b></p><br>Seperated by commas using parenthesis"
   ]
  },
  {
   "cell_type": "code",
   "execution_count": 90,
   "metadata": {},
   "outputs": [
    {
     "name": "stdout",
     "output_type": "stream",
     "text": [
      "(1, 2, 3)\n",
      "(1, 2, 3)\n",
      "1\n",
      "3\n",
      "\n",
      "\n",
      "1\n",
      "2\n",
      "3\n",
      "\n",
      "\n",
      "1\n",
      "2\n",
      "3\n"
     ]
    }
   ],
   "source": [
    "tup_1=1,2,3   \n",
    "tup_2=(1,2,3) \n",
    "\n",
    "print(tup_1)\n",
    "print(tup_2)\n",
    "\n",
    "print(tup_1[0])\n",
    "print(len(tup_2))\n",
    "\n",
    "# looping over tuples\n",
    "print(\"\\n\")\n",
    "for number in tup_1:\n",
    "    print(number)\n",
    "    \n",
    "print(\"\\n\")\n",
    "\n",
    "for number in range(len(tup_2)):\n",
    "    print(tup_1[number])\n",
    "\n",
    "\n",
    "# append, pop, remove, those things will not work on a tuple\n",
    "\n"
   ]
  },
  {
   "cell_type": "markdown",
   "metadata": {},
   "source": [
    "##### sorted()"
   ]
  },
  {
   "cell_type": "code",
   "execution_count": 102,
   "metadata": {},
   "outputs": [
    {
     "name": "stdout",
     "output_type": "stream",
     "text": [
      "[2, 4, 6, 7, 20, 35, 43, 44, 55, 88]\n",
      "(20, 55, 43, 2, 4, 6, 7, 88, 44, 35)\n",
      "\n",
      "\n",
      "[2, 3, 4, 6, 7, 20, 22, 34, 35, 35, 43, 44, 53, 55, 88]\n",
      "\n",
      "\n",
      "(2, 3, 4, 6, 7, 20, 22, 34, 35, 35, 43, 44, 53, 55, 88)\n",
      "\n",
      "\n",
      "(20, 55, 43, 2, 4, 6, 7, 88, 44, 35)\n"
     ]
    }
   ],
   "source": [
    "tup_3=(20,55,43,2,4,6,7,88,44,35)\n",
    "\n",
    "sorted_tup= sorted(tup_3)\n",
    "print(sorted_tup)\n",
    "print(tup_3)\n",
    "# it is converted into a list so that it can be re arranged.\n",
    "\n",
    "random_list=[3,53,34,22,35]\n",
    "print(\"\\n\")\n",
    "\n",
    "combine=sorted(sorted_tup+random_list)\n",
    "print(combine)\n",
    "\n",
    "# lets turn it back into a tuple\n",
    "new_tup=tuple(combine)\n",
    "print(\"\\n\")\n",
    "print(new_tup)\n",
    "\n",
    "print(\"\\n\")\n",
    "\n",
    "print(tup_3)"
   ]
  },
  {
   "cell_type": "markdown",
   "metadata": {},
   "source": [
    "##### Adding values to a Tuple"
   ]
  },
  {
   "cell_type": "code",
   "execution_count": 105,
   "metadata": {},
   "outputs": [
    {
     "name": "stdout",
     "output_type": "stream",
     "text": [
      "(1, 2, 3, 4, 5, 6)\n",
      "(1, 2, 3, 4, 5, 6, 4, 5, 6)\n"
     ]
    }
   ],
   "source": [
    "print(tup_1)\n",
    "\n",
    "# you are renaming it the same thing and manually adding a new value\n",
    "tup_1=tup_1 + (4,5,6,)\n",
    "print(tup_1)"
   ]
  },
  {
   "cell_type": "markdown",
   "metadata": {},
   "source": [
    "## Functions"
   ]
  },
  {
   "cell_type": "markdown",
   "metadata": {},
   "source": [
    "##### User-Defined vs. Built-In Functions"
   ]
  },
  {
   "cell_type": "code",
   "execution_count": 109,
   "metadata": {},
   "outputs": [
    {
     "data": {
      "text/plain": [
       "'hello tyler!!!'"
      ]
     },
     "execution_count": 109,
     "metadata": {},
     "output_type": "execute_result"
    }
   ],
   "source": [
    "def sayHello(username):\n",
    "    return \"hello \"+ username +\"!!!\"\n",
    "sayHello(\"tyler\")"
   ]
  },
  {
   "cell_type": "markdown",
   "metadata": {},
   "source": [
    "##### Accepting Parameters"
   ]
  },
  {
   "cell_type": "code",
   "execution_count": 129,
   "metadata": {},
   "outputs": [
    {
     "name": "stdout",
     "output_type": "stream",
     "text": [
      "what lift do you like the most?squats\n",
      "how often do you do that lift?as much as i can\n",
      "My favorite lift is squats and I do them as much as i can\n"
     ]
    }
   ],
   "source": [
    "# arguments and paramiters\n",
    "# order matters\n",
    "#a variable can be anything. int,string,list,dict\n",
    "def excersize(favorability, lift):\n",
    "    return f\"My favorite lift is {favorability} and I do them {lift}\"\n",
    "\n",
    "ask=input(\"what lift do you like the most?\")\n",
    "ask2=input(\"how often do you do that lift?\")\n",
    "print(excersize(ask,ask2))\n",
    "\n"
   ]
  },
  {
   "cell_type": "markdown",
   "metadata": {},
   "source": [
    "##### Default Parameters"
   ]
  },
  {
   "cell_type": "code",
   "execution_count": 135,
   "metadata": {},
   "outputs": [
    {
     "data": {
      "text/plain": [
       "'my weight is 190 and my sex is male.'"
      ]
     },
     "execution_count": 135,
     "metadata": {},
     "output_type": "execute_result"
    }
   ],
   "source": [
    "# default peramiters need to be defined AFTER non-deault peramiters each time\n",
    "def personal_info(weight, sex= \"male\"):\n",
    "    return f\"my weight is {weight} and my sex is {sex}.\"\n",
    "personal_info(190)\n",
    "\n",
    "# do not so this\n",
    "\n",
    "# def driving_skill(skill=\"good\", person):\n",
    "#     return f\"{person} is a very {skill} driver.\"\n",
    "# driving_skill(jessica)\n",
    "\n",
    "# this will throw an error because the default proceeds the non-default argument\n"
   ]
  },
  {
   "cell_type": "markdown",
   "metadata": {},
   "source": [
    "##### Making an Argument Optional"
   ]
  },
  {
   "cell_type": "code",
   "execution_count": 139,
   "metadata": {},
   "outputs": [
    {
     "data": {
      "text/plain": [
       "'My dogs name is Mr. hemi  doodle. and he deserves respect.'"
      ]
     },
     "execution_count": 139,
     "metadata": {},
     "output_type": "execute_result"
    }
   ],
   "source": [
    "def dogname(first, middle =\"\", last=\"doodle\"):\n",
    "    return f\"My dogs name is Mr. {first} {middle} {last}. and he deserves respect.\"\n",
    "dogname(\"Kingsley\", \"cowboy\")\n",
    "\n",
    "dogname(\"hemi\")"
   ]
  },
  {
   "cell_type": "markdown",
   "metadata": {},
   "source": [
    "##### Keyword Arguments"
   ]
  },
  {
   "cell_type": "code",
   "execution_count": 140,
   "metadata": {},
   "outputs": [
    {
     "data": {
      "text/plain": [
       "'the best bike for me is the triumph boniville bobber because it suites all my needs.'"
      ]
     },
     "execution_count": 140,
     "metadata": {},
     "output_type": "execute_result"
    }
   ],
   "source": [
    "# last_name='Max', first_name='Smith' in the function call\n",
    "\n",
    "# see above\n",
    "def find_bike(make,model):\n",
    "    return f\"the best bike for me is the {make} {model} because it suites all my needs.\"\n",
    "find_bike(make=\"triumph\", model=\"boniville bobber\")\n",
    "# this allows you more control over how the arguments are used"
   ]
  },
  {
   "cell_type": "markdown",
   "metadata": {},
   "source": [
    "# Creating a start, stop, step function"
   ]
  },
  {
   "cell_type": "code",
   "execution_count": 151,
   "metadata": {},
   "outputs": [
    {
     "name": "stdout",
     "output_type": "stream",
     "text": [
      "20\n",
      "24\n",
      "28\n",
      "32\n",
      "36\n",
      "40\n",
      "44\n",
      "48\n",
      "52\n",
      "56\n",
      "60\n",
      "64\n",
      "68\n",
      "72\n",
      "76\n",
      "80\n",
      "84\n",
      "88\n",
      "92\n",
      "96\n",
      "1\n",
      "27\n",
      "125\n",
      "343\n",
      "729\n",
      "1331\n",
      "2197\n",
      "3375\n"
     ]
    }
   ],
   "source": [
    "def numbers(step,start=20,stop=99):\n",
    "    for i in range (start,stop,step):\n",
    "        print(i) \n",
    "\n",
    "numbers(4)\n",
    "\n",
    "\n",
    "def multiples(a,b,c):\n",
    "    for i in range(a,b,c):\n",
    "        print(i**3) \n",
    "multiples(1,17,2)\n",
    "# for some reason you need to use print(i) if you want all of the range, return will only return the first."
   ]
  },
  {
   "cell_type": "markdown",
   "metadata": {},
   "source": [
    "##### Returning Values"
   ]
  },
  {
   "cell_type": "code",
   "execution_count": 162,
   "metadata": {},
   "outputs": [
    {
     "data": {
      "text/plain": [
       "2"
      ]
     },
     "execution_count": 162,
     "metadata": {},
     "output_type": "execute_result"
    }
   ],
   "source": [
    "def modnums(num1,num2):\n",
    "    return num1 % num2\n",
    "modnums(6,4)"
   ]
  },
  {
   "cell_type": "markdown",
   "metadata": {},
   "source": [
    "##### *args"
   ]
  },
  {
   "cell_type": "code",
   "execution_count": 167,
   "metadata": {},
   "outputs": [
    {
     "name": "stdout",
     "output_type": "stream",
     "text": [
      "53\n",
      "('location', 'price', 'footage')\n",
      "{'town': 'bend'}\n"
     ]
    }
   ],
   "source": [
    "# args stands for arguments and takes any number of arguments or peramiters\n",
    "# must be last if multiple peramiters are preasant\n",
    "def makeargs(num, *args, **kwargs):\n",
    "    print(num)\n",
    "    print(args)\n",
    "    print(kwargs)\n",
    "makeargs(53,\"location\",\"price\",\"footage\",town =\"bend\")\n"
   ]
  },
  {
   "cell_type": "markdown",
   "metadata": {},
   "source": [
    "##### Docstring"
   ]
  },
  {
   "cell_type": "code",
   "execution_count": 177,
   "metadata": {},
   "outputs": [
    {
     "name": "stdout",
     "output_type": "stream",
     "text": [
      "['allen', 'jase', 'murry', 'phil', 'willie']\n",
      "Help on function printlist in module __main__:\n",
      "\n",
      "printlist(list_1)\n",
      "    This function takes in a list of some sort. Once\n",
      "     the user enters a list of things into this function,\n",
      "     each item will pr printed indavidually and sorted.\n",
      "\n"
     ]
    }
   ],
   "source": [
    "def printlist(list_1):\n",
    "    \"\"\"\n",
    "        This function takes in a list of some sort. Once\n",
    "         the user enters a list of things into this function,\n",
    "         each item will pr printed indavidually and sorted.\n",
    "    \"\"\"\n",
    "    print(sorted(list_1))\n",
    "\n",
    "printlist([\"murry\",\"jase\",\"phil\",\"allen\",\"willie\"])\n",
    "\n",
    "help(printlist)"
   ]
  },
  {
   "cell_type": "markdown",
   "metadata": {},
   "source": [
    "##### Using a User Function in a Loop"
   ]
  },
  {
   "cell_type": "code",
   "execution_count": 193,
   "metadata": {},
   "outputs": [
    {
     "ename": "SyntaxError",
     "evalue": "invalid syntax (2215738961.py, line 15)",
     "output_type": "error",
     "traceback": [
      "\u001b[1;36m  Cell \u001b[1;32mIn[193], line 15\u001b[1;36m\u001b[0m\n\u001b[1;33m    else:\u001b[0m\n\u001b[1;37m    ^\u001b[0m\n\u001b[1;31mSyntaxError\u001b[0m\u001b[1;31m:\u001b[0m invalid syntax\n"
     ]
    }
   ],
   "source": [
    "def printresponse(response):\n",
    "    print(response)\n",
    "\n",
    "question=input(\"are you excited that winter is coming?\")\n",
    "printresponse(question)\n",
    "\n",
    "while True:\n",
    "    ask=input(\"why or why not?\")\n",
    "    printresponse(ask)\n",
    "    \n",
    "    ask_1=input(\"would you like to quit?\")\n",
    "   \n",
    "    if ask_1 == \"quit\" or \"yes\":\n",
    "        break"
   ]
  },
  {
   "cell_type": "markdown",
   "metadata": {},
   "source": [
    "## Function Exercise <br>\n",
    "<p>Write a function that loops through a list of first_names and a list of last_names, combines the two and return a list of full_names</p>"
   ]
  },
  {
   "cell_type": "code",
   "execution_count": 221,
   "metadata": {},
   "outputs": [
    {
     "name": "stdout",
     "output_type": "stream",
     "text": [
      "['John Smith', 'Evan Smith', 'Jordan Williams', 'Max Bell']\n"
     ]
    }
   ],
   "source": [
    "first_name = ['John', 'Evan', 'Jordan', 'Max']\n",
    "last_name = ['Smith', 'Smith', 'Williams', 'Bell']\n",
    "full_name=[]\n",
    "# Output: ['John Smith', 'Evan Smith', 'Jordan Williams', 'Max Bell']\n",
    "def makename(list_1,list_2):\n",
    "    for name, lastname in zip(list_1,list_2):\n",
    "        full_name.append(name + \" \" + lastname)\n",
    "    print(full_name)\n",
    "\n",
    "        \n",
    "    \n",
    "        \n",
    "makename(first_name, last_name)\n",
    " "
   ]
  },
  {
   "cell_type": "markdown",
   "metadata": {},
   "source": [
    "## Scope <br>\n",
    "<p>Scope refers to the ability to access variables, different types of scope include:<br>a) Global<br>b) Function (local)<br>c) Class (local)</p>"
   ]
  },
  {
   "cell_type": "code",
   "execution_count": 228,
   "metadata": {},
   "outputs": [
    {
     "name": "stdout",
     "output_type": "stream",
     "text": [
      "3\n",
      "whabbabu\n"
     ]
    },
    {
     "data": {
      "text/plain": [
       "3"
      ]
     },
     "execution_count": 228,
     "metadata": {},
     "output_type": "execute_result"
    }
   ],
   "source": [
    "# global example. this is available to the rest of your code\n",
    "number=3\n",
    "word=\"whabbabu\"\n",
    "\n",
    "# this is an example of a local variable\n",
    "def function():\n",
    "    number=3 #this is a local variable\n",
    "    number += 7\n",
    "    return(number)\n",
    "print(number)\n",
    "print(word)\n",
    "\n",
    "function()\n",
    "#you can change the value of a keyword locally without effecting the same keyword globally. and visa versa"
   ]
  },
  {
   "cell_type": "markdown",
   "metadata": {},
   "source": [
    "# Exercises"
   ]
  },
  {
   "cell_type": "markdown",
   "metadata": {},
   "source": [
    "## Exercise 1 <br>\n",
    "<p>Given a list as a parameter,write a function that returns a list of numbers that are less than ten</b></i></p><br>\n",
    "<p> For example: Say your input parameter to the function is [1,11,14,5,8,9]...Your output should [1,5,8,9]</p>"
   ]
  },
  {
   "cell_type": "code",
   "execution_count": 231,
   "metadata": {},
   "outputs": [
    {
     "name": "stdout",
     "output_type": "stream",
     "text": [
      "[1, 5, 8, 9]\n"
     ]
    }
   ],
   "source": [
    "# Use the following list - [1,11,14,5,8,9]\n",
    "\n",
    "l_1 = [1,11,14,5,8,9]\n",
    "l_2=[]\n",
    "def count(list):\n",
    "    for number in list:\n",
    "        if number < 10:\n",
    "            l_2.append(number)\n",
    "    print(l_2)\n",
    "        \n",
    "count(l_1)"
   ]
  },
  {
   "cell_type": "markdown",
   "metadata": {},
   "source": [
    "## Exercise 2 <br>\n",
    "<p>Write a function that takes in two lists and returns the two lists merged together and sorted<br>\n",
    "<b><i>Hint: You can use the .sort() method</i></b></p>"
   ]
  },
  {
   "cell_type": "code",
   "execution_count": 232,
   "metadata": {},
   "outputs": [
    {
     "name": "stdout",
     "output_type": "stream",
     "text": [
      "[1, 2, 3, 3, 4, 4, 5, 5, 6, 6, 7, 8, 10]\n"
     ]
    }
   ],
   "source": [
    "l_1 = [1,2,3,4,5,6]\n",
    "l_2 = [3,4,5,6,7,8,10]\n",
    "\n",
    "def combine(list_1,list_2):\n",
    "    new_list=sorted(list_1 + list_2)\n",
    "    print(new_list)\n",
    "combine(l_1,l_2)"
   ]
  }
 ],
 "metadata": {
  "kernelspec": {
   "display_name": "Python 3 (ipykernel)",
   "language": "python",
   "name": "python3"
  },
  "language_info": {
   "codemirror_mode": {
    "name": "ipython",
    "version": 3
   },
   "file_extension": ".py",
   "mimetype": "text/x-python",
   "name": "python",
   "nbconvert_exporter": "python",
   "pygments_lexer": "ipython3",
   "version": "3.11.3"
  }
 },
 "nbformat": 4,
 "nbformat_minor": 2
}
